{
  "nbformat": 4,
  "nbformat_minor": 0,
  "metadata": {
    "colab": {
      "provenance": [],
      "collapsed_sections": []
    },
    "kernelspec": {
      "name": "python3",
      "display_name": "Python 3"
    },
    "language_info": {
      "name": "python"
    }
  },
  "cells": [
    {
      "cell_type": "markdown",
      "source": [
        "@author: Miguel V. Martin for the ML corse, adapted from Geron"
      ],
      "metadata": {
        "id": "6UGK3Rdwvb5R"
      }
    },
    {
      "cell_type": "code",
      "source": [
        "import pandas as pd, numpy as np\n",
        "from numpy import argmax\n",
        "from numpy import unique\n",
        "import matplotlib.pyplot as plt, seaborn as sns\n",
        "from sklearn.preprocessing import LabelEncoder\n",
        "from sklearn.model_selection import train_test_split\n",
        "from keras.models import Sequential\n",
        "from keras.layers import Dense, Activation, Flatten\n",
        "from sklearn.ensemble import RandomForestRegressor\n",
        "from sklearn.feature_selection import RFE\n",
        "from sklearn.model_selection import cross_val_score\n",
        "from sklearn.metrics import mean_squared_error, r2_score, mean_absolute_error\n",
        "import tensorflow as tf\n",
        "from tensorflow import keras\n",
        "from sklearn.preprocessing import StandardScaler"
      ],
      "metadata": {
        "id": "sQLPZNSlQUuo"
      },
      "execution_count": null,
      "outputs": []
    },
    {
      "cell_type": "markdown",
      "source": [
        "# Dataset Loading"
      ],
      "metadata": {
        "id": "cUUeHV9TQX2k"
      }
    },
    {
      "cell_type": "code",
      "source": [
        "# Placing URL for getting the dataset from the website \n",
        "url_link = 'http://archive.ics.uci.edu/ml/machine-learning-databases/auto-mpg/auto-mpg.data'\n",
        "col_names = ['MPG', 'Cylinders', 'Displacement', 'Horsepower', 'Weight',\n",
        "                'Acceleration', 'Model Year', 'Origin']\n",
        "df = pd.read_csv(url_link, names=col_names, na_values='?', comment='\\t', sep=' ', skipinitialspace=True)\n",
        "print(df)"
      ],
      "metadata": {
        "id": "p4vKdJd4MI5z",
        "colab": {
          "base_uri": "https://localhost:8080/"
        },
        "outputId": "731af1da-8b7b-431e-a1e4-f670f71f7030"
      },
      "execution_count": null,
      "outputs": [
        {
          "output_type": "stream",
          "name": "stdout",
          "text": [
            "      MPG  Cylinders  Displacement  Horsepower  Weight  Acceleration  \\\n",
            "0    18.0          8         307.0       130.0  3504.0          12.0   \n",
            "1    15.0          8         350.0       165.0  3693.0          11.5   \n",
            "2    18.0          8         318.0       150.0  3436.0          11.0   \n",
            "3    16.0          8         304.0       150.0  3433.0          12.0   \n",
            "4    17.0          8         302.0       140.0  3449.0          10.5   \n",
            "..    ...        ...           ...         ...     ...           ...   \n",
            "393  27.0          4         140.0        86.0  2790.0          15.6   \n",
            "394  44.0          4          97.0        52.0  2130.0          24.6   \n",
            "395  32.0          4         135.0        84.0  2295.0          11.6   \n",
            "396  28.0          4         120.0        79.0  2625.0          18.6   \n",
            "397  31.0          4         119.0        82.0  2720.0          19.4   \n",
            "\n",
            "     Model Year  Origin  \n",
            "0            70       1  \n",
            "1            70       1  \n",
            "2            70       1  \n",
            "3            70       1  \n",
            "4            70       1  \n",
            "..          ...     ...  \n",
            "393          82       1  \n",
            "394          82       2  \n",
            "395          82       1  \n",
            "396          82       1  \n",
            "397          82       1  \n",
            "\n",
            "[398 rows x 8 columns]\n"
          ]
        }
      ]
    },
    {
      "cell_type": "code",
      "source": [
        "df.isnull().sum()"
      ],
      "metadata": {
        "id": "-qLsTmTZMI89",
        "colab": {
          "base_uri": "https://localhost:8080/"
        },
        "outputId": "9a10c07a-a17c-456e-ca05-7bad25d42e9f"
      },
      "execution_count": null,
      "outputs": [
        {
          "output_type": "execute_result",
          "data": {
            "text/plain": [
              "MPG             0\n",
              "Cylinders       0\n",
              "Displacement    0\n",
              "Horsepower      6\n",
              "Weight          0\n",
              "Acceleration    0\n",
              "Model Year      0\n",
              "Origin          0\n",
              "dtype: int64"
            ]
          },
          "metadata": {},
          "execution_count": 3
        }
      ]
    },
    {
      "cell_type": "code",
      "source": [
        "# Dropping the last two columns Origin and Car Names by using iloc\n",
        "df.drop(df.iloc[:,7:8], inplace=True, axis=1)\n",
        "print(df)"
      ],
      "metadata": {
        "id": "Mq14ayPzMI_h",
        "colab": {
          "base_uri": "https://localhost:8080/"
        },
        "outputId": "579826db-ed90-407c-8bb6-95f4250f1b67"
      },
      "execution_count": null,
      "outputs": [
        {
          "output_type": "stream",
          "name": "stdout",
          "text": [
            "      MPG  Cylinders  Displacement  Horsepower  Weight  Acceleration  \\\n",
            "0    18.0          8         307.0       130.0  3504.0          12.0   \n",
            "1    15.0          8         350.0       165.0  3693.0          11.5   \n",
            "2    18.0          8         318.0       150.0  3436.0          11.0   \n",
            "3    16.0          8         304.0       150.0  3433.0          12.0   \n",
            "4    17.0          8         302.0       140.0  3449.0          10.5   \n",
            "..    ...        ...           ...         ...     ...           ...   \n",
            "393  27.0          4         140.0        86.0  2790.0          15.6   \n",
            "394  44.0          4          97.0        52.0  2130.0          24.6   \n",
            "395  32.0          4         135.0        84.0  2295.0          11.6   \n",
            "396  28.0          4         120.0        79.0  2625.0          18.6   \n",
            "397  31.0          4         119.0        82.0  2720.0          19.4   \n",
            "\n",
            "     Model Year  \n",
            "0            70  \n",
            "1            70  \n",
            "2            70  \n",
            "3            70  \n",
            "4            70  \n",
            "..          ...  \n",
            "393          82  \n",
            "394          82  \n",
            "395          82  \n",
            "396          82  \n",
            "397          82  \n",
            "\n",
            "[398 rows x 7 columns]\n"
          ]
        }
      ]
    },
    {
      "cell_type": "code",
      "source": [
        "# Attribute horsepower has 6 missing values. For filling these up with the average horsepower for the respective number of cylinders I have used the mean value. \n",
        "mean_value = df['Horsepower'].mean()\n",
        "print('Mean of values in horsepower :')\n",
        "print(mean_value)"
      ],
      "metadata": {
        "id": "guopckJ6MJAu",
        "colab": {
          "base_uri": "https://localhost:8080/"
        },
        "outputId": "e41e211d-b21b-46dc-a9f2-2445291e2202"
      },
      "execution_count": null,
      "outputs": [
        {
          "output_type": "stream",
          "name": "stdout",
          "text": [
            "Mean of values in horsepower :\n",
            "104.46938775510205\n"
          ]
        }
      ]
    },
    {
      "cell_type": "code",
      "source": [
        "# Replacing missing attributes from the horsepower column with the mean value. \n",
        "df['Horsepower'].fillna(value=df['Horsepower'].mean(), inplace=True)\n",
        "print('Updated Dataframe:')\n",
        "print(df)"
      ],
      "metadata": {
        "id": "Pt7qHDcdMJCB",
        "colab": {
          "base_uri": "https://localhost:8080/"
        },
        "outputId": "e63f4825-1247-4600-89a5-f80004d9346f"
      },
      "execution_count": null,
      "outputs": [
        {
          "output_type": "stream",
          "name": "stdout",
          "text": [
            "Updated Dataframe:\n",
            "      MPG  Cylinders  Displacement  Horsepower  Weight  Acceleration  \\\n",
            "0    18.0          8         307.0       130.0  3504.0          12.0   \n",
            "1    15.0          8         350.0       165.0  3693.0          11.5   \n",
            "2    18.0          8         318.0       150.0  3436.0          11.0   \n",
            "3    16.0          8         304.0       150.0  3433.0          12.0   \n",
            "4    17.0          8         302.0       140.0  3449.0          10.5   \n",
            "..    ...        ...           ...         ...     ...           ...   \n",
            "393  27.0          4         140.0        86.0  2790.0          15.6   \n",
            "394  44.0          4          97.0        52.0  2130.0          24.6   \n",
            "395  32.0          4         135.0        84.0  2295.0          11.6   \n",
            "396  28.0          4         120.0        79.0  2625.0          18.6   \n",
            "397  31.0          4         119.0        82.0  2720.0          19.4   \n",
            "\n",
            "     Model Year  \n",
            "0            70  \n",
            "1            70  \n",
            "2            70  \n",
            "3            70  \n",
            "4            70  \n",
            "..          ...  \n",
            "393          82  \n",
            "394          82  \n",
            "395          82  \n",
            "396          82  \n",
            "397          82  \n",
            "\n",
            "[398 rows x 7 columns]\n"
          ]
        }
      ]
    },
    {
      "cell_type": "code",
      "source": [
        "df['Horsepower'].describe"
      ],
      "metadata": {
        "id": "O8uUt1d8MJIt",
        "colab": {
          "base_uri": "https://localhost:8080/"
        },
        "outputId": "71c5c07a-a9f0-4488-bbfe-3e16b6dc440b"
      },
      "execution_count": null,
      "outputs": [
        {
          "output_type": "execute_result",
          "data": {
            "text/plain": [
              "<bound method NDFrame.describe of 0      130.0\n",
              "1      165.0\n",
              "2      150.0\n",
              "3      150.0\n",
              "4      140.0\n",
              "       ...  \n",
              "393     86.0\n",
              "394     52.0\n",
              "395     84.0\n",
              "396     79.0\n",
              "397     82.0\n",
              "Name: Horsepower, Length: 398, dtype: float64>"
            ]
          },
          "metadata": {},
          "execution_count": 7
        }
      ]
    },
    {
      "cell_type": "code",
      "source": [
        "df.isnull().sum()"
      ],
      "metadata": {
        "id": "bH2lnhIvMJLj",
        "colab": {
          "base_uri": "https://localhost:8080/"
        },
        "outputId": "aa4b79c6-c65a-44b9-a19d-75f72811b070"
      },
      "execution_count": null,
      "outputs": [
        {
          "output_type": "execute_result",
          "data": {
            "text/plain": [
              "MPG             0\n",
              "Cylinders       0\n",
              "Displacement    0\n",
              "Horsepower      0\n",
              "Weight          0\n",
              "Acceleration    0\n",
              "Model Year      0\n",
              "dtype: int64"
            ]
          },
          "metadata": {},
          "execution_count": 8
        }
      ]
    },
    {
      "cell_type": "code",
      "source": [
        "df.info()"
      ],
      "metadata": {
        "id": "YspvjIGUMjTK",
        "colab": {
          "base_uri": "https://localhost:8080/"
        },
        "outputId": "22a00804-3334-4be1-fa14-77b72a6628cc"
      },
      "execution_count": null,
      "outputs": [
        {
          "output_type": "stream",
          "name": "stdout",
          "text": [
            "<class 'pandas.core.frame.DataFrame'>\n",
            "RangeIndex: 398 entries, 0 to 397\n",
            "Data columns (total 7 columns):\n",
            " #   Column        Non-Null Count  Dtype  \n",
            "---  ------        --------------  -----  \n",
            " 0   MPG           398 non-null    float64\n",
            " 1   Cylinders     398 non-null    int64  \n",
            " 2   Displacement  398 non-null    float64\n",
            " 3   Horsepower    398 non-null    float64\n",
            " 4   Weight        398 non-null    float64\n",
            " 5   Acceleration  398 non-null    float64\n",
            " 6   Model Year    398 non-null    int64  \n",
            "dtypes: float64(5), int64(2)\n",
            "memory usage: 21.9 KB\n"
          ]
        }
      ]
    },
    {
      "cell_type": "markdown",
      "source": [
        "# Dataset Split"
      ],
      "metadata": {
        "id": "V01hV-RWhS7M"
      }
    },
    {
      "cell_type": "code",
      "source": [
        "# Splitting dataset into train and test set\n",
        "train, test = train_test_split(df, test_size=0.5, random_state=42)\n",
        "train_labels = train.iloc[:,-1]\n",
        "train_data = train.drop(['MPG'], axis=1)\n",
        "test_labels = test.iloc[:,-1]\n",
        "test_data = test.drop(['MPG'], axis=1)"
      ],
      "metadata": {
        "id": "MmsRhmaKYdmU"
      },
      "execution_count": null,
      "outputs": []
    },
    {
      "cell_type": "code",
      "source": [
        "# For multiclass classification, we will use 'MPG' as the target\n",
        "train_labels_mc = train['MPG']\n",
        "test_labels_mc = test['MPG']"
      ],
      "metadata": {
        "id": "AAhQ6H9zhPLB"
      },
      "execution_count": null,
      "outputs": []
    },
    {
      "cell_type": "code",
      "source": [
        "# Using StandardScaler so that it can removes the mean and scales each feature or variable to unit variance\n",
        "scaler = StandardScaler()\n",
        "train_data = scaler.fit_transform(train_data)\n",
        "test_data = scaler.transform(train_data)"
      ],
      "metadata": {
        "id": "vLMuzSJDYORP",
        "colab": {
          "base_uri": "https://localhost:8080/"
        },
        "outputId": "6f6b4e11-2f6e-4825-99e2-bcbec68bf8c3"
      },
      "execution_count": null,
      "outputs": [
        {
          "output_type": "stream",
          "name": "stderr",
          "text": [
            "/usr/local/lib/python3.7/dist-packages/sklearn/base.py:451: UserWarning: X does not have valid feature names, but StandardScaler was fitted with feature names\n",
            "  \"X does not have valid feature names, but\"\n"
          ]
        }
      ]
    },
    {
      "cell_type": "markdown",
      "source": [
        "# Random Forest (RandomForestRegressor)"
      ],
      "metadata": {
        "id": "2JBr0j1UP8zi"
      }
    },
    {
      "cell_type": "code",
      "source": [
        "# Reference: https://scikit-learn.org/stable/modules/generated/sklearn.ensemble.RandomForestClassifier.html \n",
        "# Initializing a Random Forest Regressor\n",
        "rf_reg = RandomForestRegressor(n_estimators=140, max_depth=5, random_state=42)"
      ],
      "metadata": {
        "id": "jiMOvIQyMjbX"
      },
      "execution_count": null,
      "outputs": []
    },
    {
      "cell_type": "code",
      "source": [
        "# Train model on training data\n",
        "rf_reg.fit(train_data, test_data)"
      ],
      "metadata": {
        "id": "uPPIeGXlMjdp",
        "colab": {
          "base_uri": "https://localhost:8080/"
        },
        "outputId": "b04b71c3-39f2-4dda-ec14-f378a29c2c00"
      },
      "execution_count": null,
      "outputs": [
        {
          "output_type": "execute_result",
          "data": {
            "text/plain": [
              "RandomForestRegressor(max_depth=5, n_estimators=140, random_state=42)"
            ]
          },
          "metadata": {},
          "execution_count": 14
        }
      ]
    },
    {
      "cell_type": "code",
      "source": [
        "# Making predictions using trained model\n",
        "y_pred_rf = rf_reg.predict(test_data)"
      ],
      "metadata": {
        "id": "GyCUGtFiMje6"
      },
      "execution_count": null,
      "outputs": []
    },
    {
      "cell_type": "code",
      "source": [
        "# Model metrics:\n",
        "mse = mean_squared_error(test_data, y_pred_rf)\n",
        "mae = mean_absolute_error(test_data, y_pred_rf)\n",
        "r2s = r2_score(test_data, y_pred_rf)"
      ],
      "metadata": {
        "id": "Gg5xGIJ3NuTr"
      },
      "execution_count": null,
      "outputs": []
    },
    {
      "cell_type": "code",
      "source": [
        "print(mse)"
      ],
      "metadata": {
        "id": "tT6Qr21uN7L2",
        "colab": {
          "base_uri": "https://localhost:8080/"
        },
        "outputId": "cf1d6dd5-4e0a-4518-9b3a-3ca1fd594653"
      },
      "execution_count": null,
      "outputs": [
        {
          "output_type": "stream",
          "name": "stdout",
          "text": [
            "0.17142441056433988\n"
          ]
        }
      ]
    },
    {
      "cell_type": "code",
      "source": [
        "print(mae)"
      ],
      "metadata": {
        "id": "OQ6hiXuVN7Qh",
        "colab": {
          "base_uri": "https://localhost:8080/"
        },
        "outputId": "72372887-3448-42a3-8b80-5fcba4a1ef1c"
      },
      "execution_count": null,
      "outputs": [
        {
          "output_type": "stream",
          "name": "stdout",
          "text": [
            "0.21489364782159057\n"
          ]
        }
      ]
    },
    {
      "cell_type": "code",
      "source": [
        "# Showing both mse and mae of Random Forest Regression Model\n",
        "print(\"\\n\\nRandom Forest Regression Model Metrics:\")\n",
        "print(\"MSE = {0:.4f}, MAE = {1:.4f} & R2-Score = {2:.4f}\\n\\n\".format(mse, mae, r2s))"
      ],
      "metadata": {
        "id": "P5ta_Fu3NuY_",
        "colab": {
          "base_uri": "https://localhost:8080/"
        },
        "outputId": "db5e9e6e-29cb-491f-be79-2736e49e6a3f"
      },
      "execution_count": null,
      "outputs": [
        {
          "output_type": "stream",
          "name": "stdout",
          "text": [
            "\n",
            "\n",
            "Random Forest Regression Model Metrics:\n",
            "MSE = 0.1714, MAE = 0.2149 & R2-Score = -0.7462\n",
            "\n",
            "\n"
          ]
        }
      ]
    },
    {
      "cell_type": "code",
      "source": [
        "# Using 5-Fold Cross-Validation-\n",
        "cvs = cross_val_score(rf_reg, train_data, test_data, cv = 5)\n",
        "print(\"\\nRandom Forest Regressor By Cross Validation (5-fold CV):\")\n",
        "print(\"Mean = {0:.4f} & Standard deviation = {1:.4f}\\n\".format(cvs.mean(), cvs.std()))"
      ],
      "metadata": {
        "id": "628tGzIlOOIu",
        "colab": {
          "base_uri": "https://localhost:8080/"
        },
        "outputId": "00b624b5-21d2-4159-f017-dbacde246ac9"
      },
      "execution_count": null,
      "outputs": [
        {
          "output_type": "stream",
          "name": "stdout",
          "text": [
            "\n",
            "Random Forest Regressor By Cross Validation (5-fold CV):\n",
            "Mean = 0.8916 & Standard deviation = 0.0044\n",
            "\n"
          ]
        }
      ]
    },
    {
      "cell_type": "markdown",
      "source": [
        "# Configuration of Neural Network "
      ],
      "metadata": {
        "id": "fh2c8ZYBiymy"
      }
    },
    {
      "cell_type": "code",
      "source": [
        "# Reference: https://machinelearningmastery.com/tutorial-first-neural-network-python-keras/ \n",
        "# Sequential Model\n",
        "model = keras.models.Sequential([\n",
        "keras.layers.Flatten(input_shape=[7]),\n",
        "keras.layers.Dense(100, activation=\"relu\", kernel_initializer=\"HeNormal\"),\n",
        "keras.layers.Dense(1, activation=\"elu\"),\n",
        "])\n",
        "model.summary()"
      ],
      "metadata": {
        "id": "IkstFqJVb_y7",
        "colab": {
          "base_uri": "https://localhost:8080/"
        },
        "outputId": "e22a4f3c-be00-4446-c61e-59a1bf010218"
      },
      "execution_count": null,
      "outputs": [
        {
          "output_type": "stream",
          "name": "stdout",
          "text": [
            "Model: \"sequential\"\n",
            "_________________________________________________________________\n",
            " Layer (type)                Output Shape              Param #   \n",
            "=================================================================\n",
            " flatten (Flatten)           (None, 7)                 0         \n",
            "                                                                 \n",
            " dense (Dense)               (None, 100)               800       \n",
            "                                                                 \n",
            " dense_1 (Dense)             (None, 1)                 101       \n",
            "                                                                 \n",
            "=================================================================\n",
            "Total params: 901\n",
            "Trainable params: 901\n",
            "Non-trainable params: 0\n",
            "_________________________________________________________________\n"
          ]
        }
      ]
    },
    {
      "cell_type": "code",
      "source": [
        "# Reference: https://www.tensorflow.org/api_docs/python/tf/keras/utils/to_categorical \n",
        "# Building model as depicted in the paper\n",
        "keras.utils.plot_model(model, \"auto-mpg-prediction-model.png\", show_shapes=True, rankdir='LR') "
      ],
      "metadata": {
        "id": "YU_-uHh8cNzT",
        "colab": {
          "base_uri": "https://localhost:8080/",
          "height": 121
        },
        "outputId": "45cb3bec-ef8b-4194-a818-8d5c70b119c5"
      },
      "execution_count": null,
      "outputs": [
        {
          "output_type": "execute_result",
          "data": {
            "image/png": "[encoded data removed]",
            "text/plain": [
              "<IPython.core.display.Image object>"
            ]
          },
          "metadata": {},
          "execution_count": 22
        }
      ]
    }
  ]
}